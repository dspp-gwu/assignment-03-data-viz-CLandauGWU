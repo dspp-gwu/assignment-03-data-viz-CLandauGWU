{
 "cells": [
  {
   "cell_type": "markdown",
   "metadata": {},
   "source": [
    "# Lesson 3: Data Wrangling and Visualization"
   ]
  },
  {
   "cell_type": "markdown",
   "metadata": {},
   "source": [
    "Today we're going to work on wrangling and visualizing data. We will be exploring the packages we've learned about earlier in this course: Pandas, NumPy, Matplotlib, and Seaborn.\n",
    "\n",
    "We'll begin by importing the packages we need.\n",
    "\n",
    "## Exercise 1 \n",
    "\n",
    "Import each of the packages mentioned above.  "
   ]
  },
  {
   "cell_type": "code",
   "execution_count": 1,
   "metadata": {
    "collapsed": false
   },
   "outputs": [],
   "source": [
    "import pandas as pd\n",
    "import numpy as np\n",
    "import matplotlib.pyplot as plt\n",
    "import seaborn as sns"
   ]
  },
  {
   "cell_type": "markdown",
   "metadata": {},
   "source": [
    "## Exercise 2\n",
    "\n",
    "Import the 2016 City Service Request data we used in lesson 2. Use the os package to set the working directory."
   ]
  },
  {
   "cell_type": "code",
   "execution_count": 2,
   "metadata": {
    "collapsed": true
   },
   "outputs": [],
   "source": [
    "serv = pd.read_csv('https://opendata.arcgis.com/datasets/0e4b7d3a83b94a178b3d1f015db901ee_7.csv',\n",
    "                  encoding= 'utf-8')"
   ]
  },
  {
   "cell_type": "markdown",
   "metadata": {},
   "source": [
    "## Exercise 3 \n",
    "\n",
    "Take a look at the data using some of the techniques you learned last week, including shape, head, and describe."
   ]
  },
  {
   "cell_type": "code",
   "execution_count": 3,
   "metadata": {
    "collapsed": false
   },
   "outputs": [
    {
     "data": {
      "text/plain": [
       "(302985, 30)"
      ]
     },
     "execution_count": 3,
     "metadata": {},
     "output_type": "execute_result"
    }
   ],
   "source": [
    "serv.shape"
   ]
  },
  {
   "cell_type": "code",
   "execution_count": 5,
   "metadata": {
    "collapsed": false
   },
   "outputs": [
    {
     "data": {
      "text/html": [
       "<div>\n",
       "<table border=\"1\" class=\"dataframe\">\n",
       "  <thead>\n",
       "    <tr style=\"text-align: right;\">\n",
       "      <th></th>\n",
       "      <th>X</th>\n",
       "      <th>Y</th>\n",
       "      <th>OBJECTID</th>\n",
       "      <th>SERVICECODE</th>\n",
       "      <th>SERVICECODEDESCRIPTION</th>\n",
       "      <th>SERVICETYPECODEDESCRIPTION</th>\n",
       "      <th>ORGANIZATIONACRONYM</th>\n",
       "      <th>SERVICECALLCOUNT</th>\n",
       "      <th>ADDDATE</th>\n",
       "      <th>RESOLUTIONDATE</th>\n",
       "      <th>...</th>\n",
       "      <th>XCOORD</th>\n",
       "      <th>YCOORD</th>\n",
       "      <th>LATITUDE</th>\n",
       "      <th>LONGITUDE</th>\n",
       "      <th>CITY</th>\n",
       "      <th>STATE</th>\n",
       "      <th>ZIPCODE</th>\n",
       "      <th>MARADDRESSREPOSITORYID</th>\n",
       "      <th>WARD</th>\n",
       "      <th>DETAILS</th>\n",
       "    </tr>\n",
       "  </thead>\n",
       "  <tbody>\n",
       "    <tr>\n",
       "      <th>0</th>\n",
       "      <td>-77.068472</td>\n",
       "      <td>38.959221</td>\n",
       "      <td>928367</td>\n",
       "      <td>EMNPV</td>\n",
       "      <td>Emergency No-Parking Verification</td>\n",
       "      <td>PEMA- Parking Enforcement Management Administr...</td>\n",
       "      <td>DPW</td>\n",
       "      <td>1</td>\n",
       "      <td>2016-01-04T16:45:21.000Z</td>\n",
       "      <td>2016-01-04T21:13:04.000Z</td>\n",
       "      <td>...</td>\n",
       "      <td>394065.60</td>\n",
       "      <td>143480.700000</td>\n",
       "      <td>38.959214</td>\n",
       "      <td>-77.068470</td>\n",
       "      <td>WASHINGTON</td>\n",
       "      <td>DC</td>\n",
       "      <td>20015.0</td>\n",
       "      <td>262895.0</td>\n",
       "      <td>3.0</td>\n",
       "      <td>NaN</td>\n",
       "    </tr>\n",
       "    <tr>\n",
       "      <th>1</th>\n",
       "      <td>-77.028858</td>\n",
       "      <td>38.903745</td>\n",
       "      <td>947826</td>\n",
       "      <td>S0276</td>\n",
       "      <td>Parking Meter Repair</td>\n",
       "      <td>Transportation Operations Administration</td>\n",
       "      <td>DDOT</td>\n",
       "      <td>1</td>\n",
       "      <td>2016-05-02T11:43:31.000Z</td>\n",
       "      <td>2016-05-03T01:38:10.000Z</td>\n",
       "      <td>...</td>\n",
       "      <td>397497.09</td>\n",
       "      <td>137320.600003</td>\n",
       "      <td>38.903738</td>\n",
       "      <td>-77.028856</td>\n",
       "      <td>WASHINGTON</td>\n",
       "      <td>DC</td>\n",
       "      <td>20005.0</td>\n",
       "      <td>812754.0</td>\n",
       "      <td>2.0</td>\n",
       "      <td>Need More Information</td>\n",
       "    </tr>\n",
       "    <tr>\n",
       "      <th>2</th>\n",
       "      <td>-77.019418</td>\n",
       "      <td>38.941567</td>\n",
       "      <td>947827</td>\n",
       "      <td>S0361</td>\n",
       "      <td>Sidewalk Repair</td>\n",
       "      <td>Toa-Street &amp; Bridge Maintenance</td>\n",
       "      <td>DDOT</td>\n",
       "      <td>1</td>\n",
       "      <td>2016-05-02T11:47:49.000Z</td>\n",
       "      <td>NaN</td>\n",
       "      <td>...</td>\n",
       "      <td>398316.79</td>\n",
       "      <td>141518.950000</td>\n",
       "      <td>38.941560</td>\n",
       "      <td>-77.019416</td>\n",
       "      <td>WASHINGTON</td>\n",
       "      <td>DC</td>\n",
       "      <td>20011.0</td>\n",
       "      <td>247564.0</td>\n",
       "      <td>4.0</td>\n",
       "      <td>NaN</td>\n",
       "    </tr>\n",
       "    <tr>\n",
       "      <th>3</th>\n",
       "      <td>-77.014655</td>\n",
       "      <td>38.906236</td>\n",
       "      <td>947828</td>\n",
       "      <td>PRUNING</td>\n",
       "      <td>Tree Pruning</td>\n",
       "      <td>Urban Forrestry</td>\n",
       "      <td>DDOT</td>\n",
       "      <td>1</td>\n",
       "      <td>2016-05-02T10:44:23.000Z</td>\n",
       "      <td>2017-01-19T11:03:08.000Z</td>\n",
       "      <td>...</td>\n",
       "      <td>398729.12</td>\n",
       "      <td>137596.790000</td>\n",
       "      <td>38.906229</td>\n",
       "      <td>-77.014652</td>\n",
       "      <td>WASHINGTON</td>\n",
       "      <td>DC</td>\n",
       "      <td>20001.0</td>\n",
       "      <td>238344.0</td>\n",
       "      <td>6.0</td>\n",
       "      <td>By BANUA, SIMOUN: 5/2/2016 12:48:15 PM\\nthis t...</td>\n",
       "    </tr>\n",
       "    <tr>\n",
       "      <th>4</th>\n",
       "      <td>-77.004008</td>\n",
       "      <td>38.835935</td>\n",
       "      <td>947829</td>\n",
       "      <td>S0031</td>\n",
       "      <td>Bulk Collection</td>\n",
       "      <td>SWMA- Solid Waste Management Admistration</td>\n",
       "      <td>DPW</td>\n",
       "      <td>1</td>\n",
       "      <td>2016-05-02T11:49:49.000Z</td>\n",
       "      <td>2016-05-12T14:27:19.000Z</td>\n",
       "      <td>...</td>\n",
       "      <td>399652.25</td>\n",
       "      <td>129792.780000</td>\n",
       "      <td>38.835928</td>\n",
       "      <td>-77.004005</td>\n",
       "      <td>WASHINGTON</td>\n",
       "      <td>DC</td>\n",
       "      <td>20032.0</td>\n",
       "      <td>66302.0</td>\n",
       "      <td>8.0</td>\n",
       "      <td>w riggans collected bulk on 5/12/16*closed by ...</td>\n",
       "    </tr>\n",
       "  </tbody>\n",
       "</table>\n",
       "<p>5 rows × 30 columns</p>\n",
       "</div>"
      ],
      "text/plain": [
       "           X          Y  OBJECTID SERVICECODE  \\\n",
       "0 -77.068472  38.959221    928367       EMNPV   \n",
       "1 -77.028858  38.903745    947826       S0276   \n",
       "2 -77.019418  38.941567    947827       S0361   \n",
       "3 -77.014655  38.906236    947828     PRUNING   \n",
       "4 -77.004008  38.835935    947829       S0031   \n",
       "\n",
       "              SERVICECODEDESCRIPTION  \\\n",
       "0  Emergency No-Parking Verification   \n",
       "1               Parking Meter Repair   \n",
       "2                    Sidewalk Repair   \n",
       "3                       Tree Pruning   \n",
       "4                    Bulk Collection   \n",
       "\n",
       "                          SERVICETYPECODEDESCRIPTION ORGANIZATIONACRONYM  \\\n",
       "0  PEMA- Parking Enforcement Management Administr...                 DPW   \n",
       "1           Transportation Operations Administration                DDOT   \n",
       "2                    Toa-Street & Bridge Maintenance                DDOT   \n",
       "3                                    Urban Forrestry                DDOT   \n",
       "4          SWMA- Solid Waste Management Admistration                 DPW   \n",
       "\n",
       "   SERVICECALLCOUNT                   ADDDATE            RESOLUTIONDATE  \\\n",
       "0                 1  2016-01-04T16:45:21.000Z  2016-01-04T21:13:04.000Z   \n",
       "1                 1  2016-05-02T11:43:31.000Z  2016-05-03T01:38:10.000Z   \n",
       "2                 1  2016-05-02T11:47:49.000Z                       NaN   \n",
       "3                 1  2016-05-02T10:44:23.000Z  2017-01-19T11:03:08.000Z   \n",
       "4                 1  2016-05-02T11:49:49.000Z  2016-05-12T14:27:19.000Z   \n",
       "\n",
       "                         ...                             XCOORD  \\\n",
       "0                        ...                          394065.60   \n",
       "1                        ...                          397497.09   \n",
       "2                        ...                          398316.79   \n",
       "3                        ...                          398729.12   \n",
       "4                        ...                          399652.25   \n",
       "\n",
       "          YCOORD   LATITUDE  LONGITUDE        CITY STATE  ZIPCODE  \\\n",
       "0  143480.700000  38.959214 -77.068470  WASHINGTON    DC  20015.0   \n",
       "1  137320.600003  38.903738 -77.028856  WASHINGTON    DC  20005.0   \n",
       "2  141518.950000  38.941560 -77.019416  WASHINGTON    DC  20011.0   \n",
       "3  137596.790000  38.906229 -77.014652  WASHINGTON    DC  20001.0   \n",
       "4  129792.780000  38.835928 -77.004005  WASHINGTON    DC  20032.0   \n",
       "\n",
       "  MARADDRESSREPOSITORYID WARD  \\\n",
       "0               262895.0  3.0   \n",
       "1               812754.0  2.0   \n",
       "2               247564.0  4.0   \n",
       "3               238344.0  6.0   \n",
       "4                66302.0  8.0   \n",
       "\n",
       "                                             DETAILS  \n",
       "0                                                NaN  \n",
       "1                              Need More Information  \n",
       "2                                                NaN  \n",
       "3  By BANUA, SIMOUN: 5/2/2016 12:48:15 PM\\nthis t...  \n",
       "4  w riggans collected bulk on 5/12/16*closed by ...  \n",
       "\n",
       "[5 rows x 30 columns]"
      ]
     },
     "execution_count": 5,
     "metadata": {},
     "output_type": "execute_result"
    }
   ],
   "source": [
    "serv.head()"
   ]
  },
  {
   "cell_type": "code",
   "execution_count": 6,
   "metadata": {
    "collapsed": false
   },
   "outputs": [
    {
     "data": {
      "text/html": [
       "<div>\n",
       "<table border=\"1\" class=\"dataframe\">\n",
       "  <thead>\n",
       "    <tr style=\"text-align: right;\">\n",
       "      <th></th>\n",
       "      <th>count</th>\n",
       "      <th>mean</th>\n",
       "      <th>std</th>\n",
       "      <th>min</th>\n",
       "      <th>25%</th>\n",
       "      <th>50%</th>\n",
       "      <th>75%</th>\n",
       "      <th>max</th>\n",
       "    </tr>\n",
       "  </thead>\n",
       "  <tbody>\n",
       "    <tr>\n",
       "      <th>X</th>\n",
       "      <td>302985.0</td>\n",
       "      <td>-7.701344e+01</td>\n",
       "      <td>0.037492</td>\n",
       "      <td>-77.114209</td>\n",
       "      <td>-7.703655e+01</td>\n",
       "      <td>-7.701731e+01</td>\n",
       "      <td>-7.698978e+01</td>\n",
       "      <td>-7.690953e+01</td>\n",
       "    </tr>\n",
       "    <tr>\n",
       "      <th>Y</th>\n",
       "      <td>302985.0</td>\n",
       "      <td>3.891196e+01</td>\n",
       "      <td>0.031257</td>\n",
       "      <td>38.813455</td>\n",
       "      <td>3.889461e+01</td>\n",
       "      <td>3.890972e+01</td>\n",
       "      <td>3.893308e+01</td>\n",
       "      <td>3.899544e+01</td>\n",
       "    </tr>\n",
       "    <tr>\n",
       "      <th>OBJECTID</th>\n",
       "      <td>302985.0</td>\n",
       "      <td>1.335995e+06</td>\n",
       "      <td>102371.072802</td>\n",
       "      <td>928367.000000</td>\n",
       "      <td>1.264323e+06</td>\n",
       "      <td>1.340839e+06</td>\n",
       "      <td>1.417109e+06</td>\n",
       "      <td>1.566462e+06</td>\n",
       "    </tr>\n",
       "    <tr>\n",
       "      <th>SERVICECALLCOUNT</th>\n",
       "      <td>302985.0</td>\n",
       "      <td>1.000000e+00</td>\n",
       "      <td>0.000000</td>\n",
       "      <td>1.000000</td>\n",
       "      <td>1.000000e+00</td>\n",
       "      <td>1.000000e+00</td>\n",
       "      <td>1.000000e+00</td>\n",
       "      <td>1.000000e+00</td>\n",
       "    </tr>\n",
       "    <tr>\n",
       "      <th>INSPECTORNAME</th>\n",
       "      <td>0.0</td>\n",
       "      <td>NaN</td>\n",
       "      <td>NaN</td>\n",
       "      <td>NaN</td>\n",
       "      <td>NaN</td>\n",
       "      <td>NaN</td>\n",
       "      <td>NaN</td>\n",
       "      <td>NaN</td>\n",
       "    </tr>\n",
       "    <tr>\n",
       "      <th>XCOORD</th>\n",
       "      <td>302985.0</td>\n",
       "      <td>3.988348e+05</td>\n",
       "      <td>3251.499740</td>\n",
       "      <td>390097.460000</td>\n",
       "      <td>3.968295e+05</td>\n",
       "      <td>3.984992e+05</td>\n",
       "      <td>4.008872e+05</td>\n",
       "      <td>4.078484e+05</td>\n",
       "    </tr>\n",
       "    <tr>\n",
       "      <th>YCOORD</th>\n",
       "      <td>302985.0</td>\n",
       "      <td>1.382333e+05</td>\n",
       "      <td>3470.000502</td>\n",
       "      <td>127297.420000</td>\n",
       "      <td>1.363069e+05</td>\n",
       "      <td>1.379835e+05</td>\n",
       "      <td>1.405768e+05</td>\n",
       "      <td>1.475002e+05</td>\n",
       "    </tr>\n",
       "    <tr>\n",
       "      <th>LATITUDE</th>\n",
       "      <td>302985.0</td>\n",
       "      <td>3.891195e+01</td>\n",
       "      <td>0.031258</td>\n",
       "      <td>38.813448</td>\n",
       "      <td>3.889460e+01</td>\n",
       "      <td>3.890968e+01</td>\n",
       "      <td>3.893306e+01</td>\n",
       "      <td>3.899544e+01</td>\n",
       "    </tr>\n",
       "    <tr>\n",
       "      <th>LONGITUDE</th>\n",
       "      <td>302985.0</td>\n",
       "      <td>-7.701344e+01</td>\n",
       "      <td>0.037491</td>\n",
       "      <td>-77.114206</td>\n",
       "      <td>-7.703655e+01</td>\n",
       "      <td>-7.701731e+01</td>\n",
       "      <td>-7.698977e+01</td>\n",
       "      <td>-7.690976e+01</td>\n",
       "    </tr>\n",
       "    <tr>\n",
       "      <th>ZIPCODE</th>\n",
       "      <td>302983.0</td>\n",
       "      <td>2.002962e+04</td>\n",
       "      <td>867.804543</td>\n",
       "      <td>-1865.000000</td>\n",
       "      <td>2.000300e+04</td>\n",
       "      <td>2.001100e+04</td>\n",
       "      <td>2.001800e+04</td>\n",
       "      <td>7.073900e+04</td>\n",
       "    </tr>\n",
       "    <tr>\n",
       "      <th>MARADDRESSREPOSITORYID</th>\n",
       "      <td>294302.0</td>\n",
       "      <td>2.912035e+05</td>\n",
       "      <td>270115.221076</td>\n",
       "      <td>1.000000</td>\n",
       "      <td>6.951100e+04</td>\n",
       "      <td>2.405765e+05</td>\n",
       "      <td>2.946100e+05</td>\n",
       "      <td>9.141190e+05</td>\n",
       "    </tr>\n",
       "    <tr>\n",
       "      <th>WARD</th>\n",
       "      <td>300924.0</td>\n",
       "      <td>4.335025e+00</td>\n",
       "      <td>2.151176</td>\n",
       "      <td>1.000000</td>\n",
       "      <td>2.000000e+00</td>\n",
       "      <td>4.000000e+00</td>\n",
       "      <td>6.000000e+00</td>\n",
       "      <td>8.000000e+00</td>\n",
       "    </tr>\n",
       "  </tbody>\n",
       "</table>\n",
       "</div>"
      ],
      "text/plain": [
       "                           count          mean            std            min  \\\n",
       "X                       302985.0 -7.701344e+01       0.037492     -77.114209   \n",
       "Y                       302985.0  3.891196e+01       0.031257      38.813455   \n",
       "OBJECTID                302985.0  1.335995e+06  102371.072802  928367.000000   \n",
       "SERVICECALLCOUNT        302985.0  1.000000e+00       0.000000       1.000000   \n",
       "INSPECTORNAME                0.0           NaN            NaN            NaN   \n",
       "XCOORD                  302985.0  3.988348e+05    3251.499740  390097.460000   \n",
       "YCOORD                  302985.0  1.382333e+05    3470.000502  127297.420000   \n",
       "LATITUDE                302985.0  3.891195e+01       0.031258      38.813448   \n",
       "LONGITUDE               302985.0 -7.701344e+01       0.037491     -77.114206   \n",
       "ZIPCODE                 302983.0  2.002962e+04     867.804543   -1865.000000   \n",
       "MARADDRESSREPOSITORYID  294302.0  2.912035e+05  270115.221076       1.000000   \n",
       "WARD                    300924.0  4.335025e+00       2.151176       1.000000   \n",
       "\n",
       "                                 25%           50%           75%           max  \n",
       "X                      -7.703655e+01 -7.701731e+01 -7.698978e+01 -7.690953e+01  \n",
       "Y                       3.889461e+01  3.890972e+01  3.893308e+01  3.899544e+01  \n",
       "OBJECTID                1.264323e+06  1.340839e+06  1.417109e+06  1.566462e+06  \n",
       "SERVICECALLCOUNT        1.000000e+00  1.000000e+00  1.000000e+00  1.000000e+00  \n",
       "INSPECTORNAME                    NaN           NaN           NaN           NaN  \n",
       "XCOORD                  3.968295e+05  3.984992e+05  4.008872e+05  4.078484e+05  \n",
       "YCOORD                  1.363069e+05  1.379835e+05  1.405768e+05  1.475002e+05  \n",
       "LATITUDE                3.889460e+01  3.890968e+01  3.893306e+01  3.899544e+01  \n",
       "LONGITUDE              -7.703655e+01 -7.701731e+01 -7.698977e+01 -7.690976e+01  \n",
       "ZIPCODE                 2.000300e+04  2.001100e+04  2.001800e+04  7.073900e+04  \n",
       "MARADDRESSREPOSITORYID  6.951100e+04  2.405765e+05  2.946100e+05  9.141190e+05  \n",
       "WARD                    2.000000e+00  4.000000e+00  6.000000e+00  8.000000e+00  "
      ]
     },
     "execution_count": 6,
     "metadata": {},
     "output_type": "execute_result"
    }
   ],
   "source": [
    "serv.describe().T"
   ]
  },
  {
   "cell_type": "markdown",
   "metadata": {},
   "source": [
    "Recall that last week we saw that date variables are stored as object data types in Pandas Data Frames.\n",
    "\n",
    "However, we CAN turn them in to datetime types using Pandas's nifty datetime commands.\n",
    "\n",
    "Let's begin by converting the service order date into a new datetime column in our DataFrame called \"request_date\"."
   ]
  },
  {
   "cell_type": "code",
   "execution_count": 8,
   "metadata": {
    "collapsed": false
   },
   "outputs": [],
   "source": [
    "serv['request_date'] = pd.to_datetime(serv['SERVICEORDERDATE'])"
   ]
  },
  {
   "cell_type": "markdown",
   "metadata": {},
   "source": [
    "With any datetime object, we can use dt to pull the particulare date time that we're interested in.\n",
    "\n",
    "Here we use the value_counts function to look at the data by month."
   ]
  },
  {
   "cell_type": "code",
   "execution_count": 9,
   "metadata": {
    "collapsed": false
   },
   "outputs": [
    {
     "data": {
      "text/plain": [
       "1     34542\n",
       "8     29892\n",
       "9     26935\n",
       "6     26253\n",
       "7     25881\n",
       "5     24289\n",
       "10    24236\n",
       "3     23892\n",
       "4     23725\n",
       "2     21541\n",
       "11    20990\n",
       "12    20809\n",
       "Name: request_date, dtype: int64"
      ]
     },
     "execution_count": 9,
     "metadata": {},
     "output_type": "execute_result"
    }
   ],
   "source": [
    "serv.request_date.dt.month.value_counts()"
   ]
  },
  {
   "cell_type": "markdown",
   "metadata": {},
   "source": [
    "Notice that January is the month in which the city received the most service requests. However, the other top months for service requests are all summer months, and our winter months (December, November, February) are those with the least service requests. Does January seem to be an anomaly? Let's look closer.\n",
    "\n",
    "The value_counts function returns to pieces of information: the values, which are the actual counts of rows or observations, and the index, which the values are grouped by. In this case, the index is the set of months and the values are the number of service requests each month. The value_counts function returns an output that is sorted by the values, but we can also sort by the index using the sort_index function. "
   ]
  },
  {
   "cell_type": "code",
   "execution_count": 11,
   "metadata": {
    "collapsed": false
   },
   "outputs": [
    {
     "data": {
      "text/plain": [
       "1     34542\n",
       "2     21541\n",
       "3     23892\n",
       "4     23725\n",
       "5     24289\n",
       "6     26253\n",
       "7     25881\n",
       "8     29892\n",
       "9     26935\n",
       "10    24236\n",
       "11    20990\n",
       "12    20809\n",
       "Name: request_date, dtype: int64"
      ]
     },
     "execution_count": 11,
     "metadata": {},
     "output_type": "execute_result"
    }
   ],
   "source": [
    "serv.request_date.dt.month.value_counts().sort_index()"
   ]
  },
  {
   "cell_type": "markdown",
   "metadata": {},
   "source": [
    "It may be helpful to plot this output to help us visualize the number of service requests made throughout the year."
   ]
  },
  {
   "cell_type": "code",
   "execution_count": 13,
   "metadata": {
    "collapsed": false
   },
   "outputs": [
    {
     "data": {
      "text/plain": [
       "<matplotlib.axes._subplots.AxesSubplot at 0x1b80094a710>"
      ]
     },
     "execution_count": 13,
     "metadata": {},
     "output_type": "execute_result"
    },
    {
     "data": {
      "image/png": "[encoded data removed]",
      "text/plain": [
       "<matplotlib.figure.Figure at 0x1b800a056d8>"
      ]
     },
     "metadata": {},
     "output_type": "display_data"
    }
   ],
   "source": [
    "%matplotlib inline\n",
    "requests_per_month = serv.request_date.dt.month.value_counts()\n",
    "requests_per_month.sort_index().plot()"
   ]
  },
  {
   "cell_type": "markdown",
   "metadata": {},
   "source": [
    "We can see that January does, indeed, look anomalous. After spiking in January, service requests are low throughout the winter months, increasing as we move into the warmer months and peaking in August, after which they dip down again as we return to winter. \n",
    "\n",
    "Let's take a look at what's happening in January. We can focus in on January by selecting the subset of our service requests that came in January. "
   ]
  },
  {
   "cell_type": "code",
   "execution_count": 15,
   "metadata": {
    "collapsed": false
   },
   "outputs": [
    {
     "name": "stdout",
     "output_type": "stream",
     "text": [
      "2016-01-01 00:30:30\n",
      "2016-01-31 23:43:20\n"
     ]
    }
   ],
   "source": [
    "jan_requests = serv[serv.request_date.dt.month==1]\n",
    "print(jan_requests.request_date.min())\n",
    "print(jan_requests.request_date.max())"
   ]
  },
  {
   "cell_type": "markdown",
   "metadata": {},
   "source": [
    "Here, we've fed Python a logical statement telling it to return values from df where the date-part month in the column 'request_date' is equal to 1 (or January).\n",
    "\n",
    "## Exercise 4\n",
    "\n",
    "To better understand how this works, try taking the command out of the square brackets and running it. What does it return?"
   ]
  },
  {
   "cell_type": "code",
   "execution_count": 16,
   "metadata": {
    "collapsed": false
   },
   "outputs": [
    {
     "data": {
      "text/plain": [
       "0          True\n",
       "1         False\n",
       "2         False\n",
       "3         False\n",
       "4         False\n",
       "5         False\n",
       "6         False\n",
       "7         False\n",
       "8         False\n",
       "9         False\n",
       "10        False\n",
       "11        False\n",
       "12        False\n",
       "13         True\n",
       "14        False\n",
       "15        False\n",
       "16        False\n",
       "17        False\n",
       "18        False\n",
       "19        False\n",
       "20        False\n",
       "21        False\n",
       "22        False\n",
       "23         True\n",
       "24        False\n",
       "25        False\n",
       "26        False\n",
       "27        False\n",
       "28        False\n",
       "29        False\n",
       "          ...  \n",
       "302955    False\n",
       "302956    False\n",
       "302957    False\n",
       "302958    False\n",
       "302959    False\n",
       "302960    False\n",
       "302961    False\n",
       "302962    False\n",
       "302963    False\n",
       "302964    False\n",
       "302965    False\n",
       "302966    False\n",
       "302967    False\n",
       "302968    False\n",
       "302969    False\n",
       "302970    False\n",
       "302971    False\n",
       "302972    False\n",
       "302973    False\n",
       "302974    False\n",
       "302975    False\n",
       "302976    False\n",
       "302977    False\n",
       "302978    False\n",
       "302979    False\n",
       "302980    False\n",
       "302981    False\n",
       "302982    False\n",
       "302983    False\n",
       "302984    False\n",
       "Name: request_date, dtype: bool"
      ]
     },
     "execution_count": 16,
     "metadata": {},
     "output_type": "execute_result"
    }
   ],
   "source": [
    "serv.request_date.dt.month==1"
   ]
  },
  {
   "cell_type": "markdown",
   "metadata": {},
   "source": [
    "This returns a string of True and False statements. The 'True' values are the ones the DataFrame keeps, and the 'False' ones, it discards. \n",
    "\n",
    "Now that we have the January data, let's look at what kinds of requests were being made in January.\n",
    "\n",
    "## Exercise 5\n",
    "\n",
    "Get value counts for the service code description from the subsample of January service requests. What where the most common requests?"
   ]
  },
  {
   "cell_type": "code",
   "execution_count": 17,
   "metadata": {
    "collapsed": false
   },
   "outputs": [
    {
     "data": {
      "text/plain": [
       "Snow/Ice Removal                                        5347\n",
       "Residential Snow Removal (ServeDC)                      5278\n",
       "Sidewalk Shoveling Enforcement Exemption                5266\n",
       "Snow/Ice Removal (Roadways AND Bridge walkways ONLY)    2768\n",
       "Bulk Collection                                         2352\n",
       "Parking Enforcement                                     2079\n",
       "Parking Meter Repair                                    1997\n",
       "Snow Removal Complaints for Sidewalks                   1030\n",
       "Streetlight Repair Investigation                         817\n",
       "Emergency No-Parking Verification                        558\n",
       "Pothole                                                  543\n",
       "Trash Collection - Missed                                444\n",
       "Sanitation Enforcement                                   372\n",
       "Residential Parking Permit Violation                     357\n",
       "Abandoned Vehicle - On Public Property                   324\n",
       "Alley Cleaning                                           309\n",
       "DMV - Drivers License/ID Issues                          290\n",
       "Illegal Dumping                                          269\n",
       "Recycling Collection - Missed                            239\n",
       "DMV - Vehicle Registration Issues                        238\n",
       "Street Cleaning                                          226\n",
       "Alleylight Repair                                        210\n",
       "Sidewalk Repair                                          207\n",
       "TRU Report                                               169\n",
       "Out of State Parking Violation (ROSA)                    167\n",
       "Dead Animal Collection                                   146\n",
       "Christmas Tree Removal-Seasonal                          133\n",
       "Sign Replacement                                         131\n",
       "Traffic Signal Maintanence                               127\n",
       "Street Repair                                            124\n",
       "                                                        ... \n",
       "DOEE - Construction – Erosion Runoff                       6\n",
       "Safe Routes to School                                      5\n",
       "DC Government Information                                  5\n",
       "DOEE - Engine Idling Tips                                  5\n",
       "Marking Modification                                       4\n",
       "DMV - Vehicle Inspection Issues                            4\n",
       "Snow Other                                                 4\n",
       "DMV - Driver and Vehicle Services Refund                   4\n",
       "Illegal Poster                                             4\n",
       "DOEE - Ban on Foam Food Containers                         4\n",
       "Recycling- Information Request                             3\n",
       "Signed Street Sweeping Missed                              2\n",
       "Curb and Gutter Repair Investigation                       2\n",
       "Insect Treatment                                           2\n",
       "Emergency - Power Outage/Wires Down                        2\n",
       "DMV - eTIMS Ticket Alert Services Issues                   2\n",
       "School Crossing Guard                                      1\n",
       "DMV - Offset Tracking                                      1\n",
       "Grass and Weeds Mowing                                     1\n",
       "How Is My Driving - Compliment                             1\n",
       "Roadway Marking Maintenance                                1\n",
       "Marking Removal                                            1\n",
       "Light-Light Pole                                           1\n",
       "OUC NYE Test                                               1\n",
       "DOEE - Foam Ban Tips                                       1\n",
       "Roadway Striping / Markings                                1\n",
       "Light-Overhead Guide Sign Lighting Repair                  1\n",
       "Alleylight Repair Investigation                            1\n",
       "DMV - Adjudication Supervisor                              1\n",
       "Traffic Safety Investigation                               1\n",
       "Name: SERVICECODEDESCRIPTION, dtype: int64"
      ]
     },
     "execution_count": 17,
     "metadata": {},
     "output_type": "execute_result"
    }
   ],
   "source": [
    "jan_requests.SERVICECODEDESCRIPTION.value_counts()"
   ]
  },
  {
   "cell_type": "markdown",
   "metadata": {},
   "source": [
    "The city received a TON of snow removal requests in January 2016, but received very few other requests. It seems that these requests for snow removal are driving the high number of requests in January.\n",
    "\n",
    "\n",
    "If you were living in the District in January 2016, you'll remember this was the month that Snowzilla hit the city. This was a record-breaking snowstorm that dumped feet of snow on the city from January 22nd to January 23rd. \n",
    "\n",
    "Let's take a look at the top request in January, Snow/Ice Removal.\n",
    "\n",
    "## Exercise 6\n",
    "\n",
    "Get the subsample of service requests for Snow/Ice Removal. Get the number of requests for each day in January 2016, then plot those requests so we can look at them over the course of the month. "
   ]
  },
  {
   "cell_type": "code",
   "execution_count": 51,
   "metadata": {
    "collapsed": true
   },
   "outputs": [],
   "source": [
    "snow_req = jan_requests[jan_requests.SERVICECODEDESCRIPTION== 'Snow/Ice Removal']"
   ]
  },
  {
   "cell_type": "code",
   "execution_count": 52,
   "metadata": {
    "collapsed": false
   },
   "outputs": [
    {
     "data": {
      "text/plain": [
       "25    1983\n",
       "24    1123\n",
       "26    1049\n",
       "27     322\n",
       "28     194\n",
       "21     161\n",
       "23     159\n",
       "29     145\n",
       "20      86\n",
       "30      65\n",
       "31      25\n",
       "22      22\n",
       "18       5\n",
       "6        3\n",
       "19       2\n",
       "17       1\n",
       "13       1\n",
       "5        1\n",
       "Name: request_date, dtype: int64"
      ]
     },
     "execution_count": 52,
     "metadata": {},
     "output_type": "execute_result"
    }
   ],
   "source": [
    "snow_req.request_date.dt.day.value_counts()"
   ]
  },
  {
   "cell_type": "code",
   "execution_count": 53,
   "metadata": {
    "collapsed": false
   },
   "outputs": [
    {
     "data": {
      "text/plain": [
       "<matplotlib.axes._subplots.AxesSubplot at 0x1b800eb7d30>"
      ]
     },
     "execution_count": 53,
     "metadata": {},
     "output_type": "execute_result"
    },
    {
     "data": {
      "image/png": "[encoded data removed]",
      "text/plain": [
       "<matplotlib.figure.Figure at 0x1b8034aa780>"
      ]
     },
     "metadata": {},
     "output_type": "display_data"
    }
   ],
   "source": [
    "cont = snow_req.request_date.dt.day.value_counts()\n",
    "cont[:].sort_index().plot()"
   ]
  },
  {
   "cell_type": "markdown",
   "metadata": {},
   "source": [
    "We can see that almost all of the requests for snow and ice removal came in the days following Snowzilla.\n",
    "\n",
    "Now let's take a look at WHERE those requests were coming from. DC is organized into 8 wards. These wards are the largest political geographies in the District. Each ward has a representative on the District Council who is elected directly by the residents of that ward. \n",
    "\n",
    "## Exercise 7\n",
    "\n",
    "Get the number of requests for snow and ice removal from each of the wards in January 2016."
   ]
  },
  {
   "cell_type": "code",
   "execution_count": 54,
   "metadata": {
    "collapsed": false
   },
   "outputs": [
    {
     "data": {
      "text/plain": [
       "7.0    1145\n",
       "8.0     838\n",
       "5.0     830\n",
       "4.0     802\n",
       "3.0     617\n",
       "6.0     414\n",
       "1.0     405\n",
       "2.0     268\n",
       "Name: WARD, dtype: int64"
      ]
     },
     "execution_count": 54,
     "metadata": {},
     "output_type": "execute_result"
    }
   ],
   "source": [
    "wrd = snow_req.WARD.value_counts()\n",
    "wrd"
   ]
  },
  {
   "cell_type": "markdown",
   "metadata": {},
   "source": [
    "By far, the most requests for snow and ice removal came from Ward 7, while the fewest (almost a thousand fewer) came from Ward 2. \n",
    "\n",
    "Now let's take a look at response times. Ward 7 had the most requests, but is that an indication that the city was slower to plot roads in Ward 7 than it was in other wards?\n",
    "\n",
    "## Exercise 8\n",
    "\n",
    "Create a new date column from the resolution date column in our DataFrame of requests for snow and ice removal in January."
   ]
  },
  {
   "cell_type": "code",
   "execution_count": 55,
   "metadata": {
    "collapsed": false
   },
   "outputs": [
    {
     "name": "stderr",
     "output_type": "stream",
     "text": [
      "C:\\Users\\CDL\\Anaconda3\\lib\\site-packages\\pandas\\core\\generic.py:2773: SettingWithCopyWarning: \n",
      "A value is trying to be set on a copy of a slice from a DataFrame.\n",
      "Try using .loc[row_indexer,col_indexer] = value instead\n",
      "\n",
      "See the caveats in the documentation: http://pandas.pydata.org/pandas-docs/stable/indexing.html#indexing-view-versus-copy\n",
      "  self[name] = value\n"
     ]
    }
   ],
   "source": [
    "snow_req.RESOLUTIONDATE = pd.to_datetime(snow_req.RESOLUTIONDATE)"
   ]
  },
  {
   "cell_type": "markdown",
   "metadata": {},
   "source": [
    "Because the resolution date comes AFTER the service request, the resolution date will always be 'greater' than the request date. We can get the amount of time took the city to respond to each service request by taking the difference between the resolution date and the request date.\n",
    "\n",
    "## Exercise 9\n",
    "\n",
    "Subtract the request date from the resolution date and assign that to an object called \"time_diff\". Print time_diff."
   ]
  },
  {
   "cell_type": "code",
   "execution_count": 73,
   "metadata": {
    "collapsed": false
   },
   "outputs": [],
   "source": [
    "snow_req.time_diff =  snow_req.RESOLUTIONDATE - snow_req.request_date"
   ]
  },
  {
   "cell_type": "markdown",
   "metadata": {},
   "source": [
    "Great! Now let's convert time_diff to the number of hours it took to respond using the astype function. This function can be used to change the data type of a column. The timedelta64 function lets us convert to the datetime part we're interested in."
   ]
  },
  {
   "cell_type": "code",
   "execution_count": 74,
   "metadata": {
    "collapsed": false
   },
   "outputs": [
    {
     "name": "stderr",
     "output_type": "stream",
     "text": [
      "C:\\Users\\CDL\\Anaconda3\\lib\\site-packages\\ipykernel\\__main__.py:1: SettingWithCopyWarning: \n",
      "A value is trying to be set on a copy of a slice from a DataFrame.\n",
      "Try using .loc[row_indexer,col_indexer] = value instead\n",
      "\n",
      "See the caveats in the documentation: http://pandas.pydata.org/pandas-docs/stable/indexing.html#indexing-view-versus-copy\n",
      "  if __name__ == '__main__':\n"
     ]
    }
   ],
   "source": [
    "snow_req['response_time'] = time_diff.astype('timedelta64[h]')"
   ]
  },
  {
   "cell_type": "markdown",
   "metadata": {},
   "source": [
    "## Exercise 10\n",
    "\n",
    "Create a new column in our DataFrame calls \"response_time\" that is the time difference between resolution date and request date in hours. "
   ]
  },
  {
   "cell_type": "code",
   "execution_count": 75,
   "metadata": {
    "collapsed": false
   },
   "outputs": [
    {
     "data": {
      "text/html": [
       "<div>\n",
       "<table border=\"1\" class=\"dataframe\">\n",
       "  <thead>\n",
       "    <tr style=\"text-align: right;\">\n",
       "      <th></th>\n",
       "      <th>107</th>\n",
       "      <th>202</th>\n",
       "      <th>212</th>\n",
       "      <th>219</th>\n",
       "      <th>220</th>\n",
       "    </tr>\n",
       "  </thead>\n",
       "  <tbody>\n",
       "    <tr>\n",
       "      <th>X</th>\n",
       "      <td>-76.987</td>\n",
       "      <td>-76.9981</td>\n",
       "      <td>-77.0404</td>\n",
       "      <td>-77.0336</td>\n",
       "      <td>-76.9963</td>\n",
       "    </tr>\n",
       "    <tr>\n",
       "      <th>Y</th>\n",
       "      <td>38.8562</td>\n",
       "      <td>38.9463</td>\n",
       "      <td>38.9229</td>\n",
       "      <td>38.9242</td>\n",
       "      <td>38.9507</td>\n",
       "    </tr>\n",
       "    <tr>\n",
       "      <th>OBJECTID</th>\n",
       "      <td>1054320</td>\n",
       "      <td>1075996</td>\n",
       "      <td>1076006</td>\n",
       "      <td>1076021</td>\n",
       "      <td>1076022</td>\n",
       "    </tr>\n",
       "    <tr>\n",
       "      <th>SERVICECODE</th>\n",
       "      <td>SRC02</td>\n",
       "      <td>SRC02</td>\n",
       "      <td>SRC02</td>\n",
       "      <td>SRC02</td>\n",
       "      <td>SRC02</td>\n",
       "    </tr>\n",
       "    <tr>\n",
       "      <th>SERVICECODEDESCRIPTION</th>\n",
       "      <td>Snow/Ice Removal</td>\n",
       "      <td>Snow/Ice Removal</td>\n",
       "      <td>Snow/Ice Removal</td>\n",
       "      <td>Snow/Ice Removal</td>\n",
       "      <td>Snow/Ice Removal</td>\n",
       "    </tr>\n",
       "    <tr>\n",
       "      <th>SERVICETYPECODEDESCRIPTION</th>\n",
       "      <td>SNOW</td>\n",
       "      <td>SNOW</td>\n",
       "      <td>SNOW</td>\n",
       "      <td>SNOW</td>\n",
       "      <td>SNOW</td>\n",
       "    </tr>\n",
       "    <tr>\n",
       "      <th>ORGANIZATIONACRONYM</th>\n",
       "      <td>DPW</td>\n",
       "      <td>DPW</td>\n",
       "      <td>DPW</td>\n",
       "      <td>DPW</td>\n",
       "      <td>DPW</td>\n",
       "    </tr>\n",
       "    <tr>\n",
       "      <th>SERVICECALLCOUNT</th>\n",
       "      <td>1</td>\n",
       "      <td>1</td>\n",
       "      <td>1</td>\n",
       "      <td>1</td>\n",
       "      <td>1</td>\n",
       "    </tr>\n",
       "    <tr>\n",
       "      <th>ADDDATE</th>\n",
       "      <td>2016-01-29T14:44:49.000Z</td>\n",
       "      <td>2016-01-23T14:44:07.000Z</td>\n",
       "      <td>2016-01-23T15:55:39.000Z</td>\n",
       "      <td>2016-01-25T08:21:21.000Z</td>\n",
       "      <td>2016-01-25T08:22:08.000Z</td>\n",
       "    </tr>\n",
       "    <tr>\n",
       "      <th>RESOLUTIONDATE</th>\n",
       "      <td>2016-01-31 06:32:15</td>\n",
       "      <td>2016-01-28 02:33:33</td>\n",
       "      <td>2016-01-29 00:22:46</td>\n",
       "      <td>2016-01-28 23:16:37</td>\n",
       "      <td>2016-01-28 02:10:55</td>\n",
       "    </tr>\n",
       "    <tr>\n",
       "      <th>SERVICEDUEDATE</th>\n",
       "      <td>2016-02-01T14:44:00.000Z</td>\n",
       "      <td>2016-01-25T17:00:00.000Z</td>\n",
       "      <td>2016-01-25T17:00:00.000Z</td>\n",
       "      <td>2016-01-25T17:00:00.000Z</td>\n",
       "      <td>2016-01-25T17:00:00.000Z</td>\n",
       "    </tr>\n",
       "    <tr>\n",
       "      <th>SERVICEORDERDATE</th>\n",
       "      <td>2016-01-29T14:44:49.000Z</td>\n",
       "      <td>2016-01-23T14:44:07.000Z</td>\n",
       "      <td>2016-01-23T15:55:39.000Z</td>\n",
       "      <td>2016-01-25T08:21:21.000Z</td>\n",
       "      <td>2016-01-25T08:22:08.000Z</td>\n",
       "    </tr>\n",
       "    <tr>\n",
       "      <th>INSPECTIONFLAG</th>\n",
       "      <td>Y</td>\n",
       "      <td>Y</td>\n",
       "      <td>Y</td>\n",
       "      <td>Y</td>\n",
       "      <td>Y</td>\n",
       "    </tr>\n",
       "    <tr>\n",
       "      <th>INSPECTIONDATE</th>\n",
       "      <td>2016-01-31T06:31:00.000Z</td>\n",
       "      <td>NaN</td>\n",
       "      <td>2016-01-29T00:22:00.000Z</td>\n",
       "      <td>2016-01-28T23:16:00.000Z</td>\n",
       "      <td>NaN</td>\n",
       "    </tr>\n",
       "    <tr>\n",
       "      <th>INSPECTORNAME</th>\n",
       "      <td>NaN</td>\n",
       "      <td>NaN</td>\n",
       "      <td>NaN</td>\n",
       "      <td>NaN</td>\n",
       "      <td>NaN</td>\n",
       "    </tr>\n",
       "    <tr>\n",
       "      <th>SERVICEORDERSTATUS</th>\n",
       "      <td>CLOSED</td>\n",
       "      <td>CLOSED</td>\n",
       "      <td>CLOSED</td>\n",
       "      <td>CLOSED</td>\n",
       "      <td>CLOSED</td>\n",
       "    </tr>\n",
       "    <tr>\n",
       "      <th>STATUS_CODE</th>\n",
       "      <td>CLOSED</td>\n",
       "      <td>CLOSED</td>\n",
       "      <td>CLOSED</td>\n",
       "      <td>CLOSED</td>\n",
       "      <td>CLOSED</td>\n",
       "    </tr>\n",
       "    <tr>\n",
       "      <th>SERVICEREQUESTID</th>\n",
       "      <td>16-00387025</td>\n",
       "      <td>16-00374054</td>\n",
       "      <td>16-00374239</td>\n",
       "      <td>16-00378294</td>\n",
       "      <td>16-00378301</td>\n",
       "    </tr>\n",
       "    <tr>\n",
       "      <th>PRIORITY</th>\n",
       "      <td>STANDARD</td>\n",
       "      <td>STANDARD</td>\n",
       "      <td>STANDARD</td>\n",
       "      <td>STANDARD</td>\n",
       "      <td>STANDARD</td>\n",
       "    </tr>\n",
       "    <tr>\n",
       "      <th>STREETADDRESS</th>\n",
       "      <td>NaN</td>\n",
       "      <td>NaN</td>\n",
       "      <td>1740 EUCLID STREET NW</td>\n",
       "      <td>1442 FAIRMONT STREET NW</td>\n",
       "      <td>600 - 799 BLOCK OF FARADAY PLACE NE</td>\n",
       "    </tr>\n",
       "    <tr>\n",
       "      <th>XCOORD</th>\n",
       "      <td>401129</td>\n",
       "      <td>400166</td>\n",
       "      <td>396496</td>\n",
       "      <td>397091</td>\n",
       "      <td>400319</td>\n",
       "    </tr>\n",
       "    <tr>\n",
       "      <th>YCOORD</th>\n",
       "      <td>132042</td>\n",
       "      <td>142042</td>\n",
       "      <td>139450</td>\n",
       "      <td>139596</td>\n",
       "      <td>142529</td>\n",
       "    </tr>\n",
       "    <tr>\n",
       "      <th>LATITUDE</th>\n",
       "      <td>38.8562</td>\n",
       "      <td>38.9463</td>\n",
       "      <td>38.9229</td>\n",
       "      <td>38.9242</td>\n",
       "      <td>38.9507</td>\n",
       "    </tr>\n",
       "    <tr>\n",
       "      <th>LONGITUDE</th>\n",
       "      <td>-76.987</td>\n",
       "      <td>-76.9981</td>\n",
       "      <td>-77.0404</td>\n",
       "      <td>-77.0335</td>\n",
       "      <td>-76.9963</td>\n",
       "    </tr>\n",
       "    <tr>\n",
       "      <th>CITY</th>\n",
       "      <td>NaN</td>\n",
       "      <td>NaN</td>\n",
       "      <td>WASHINGTON</td>\n",
       "      <td>WASHINGTON</td>\n",
       "      <td>WASHINGTON</td>\n",
       "    </tr>\n",
       "    <tr>\n",
       "      <th>STATE</th>\n",
       "      <td>NaN</td>\n",
       "      <td>NaN</td>\n",
       "      <td>DC</td>\n",
       "      <td>DC</td>\n",
       "      <td>DC</td>\n",
       "    </tr>\n",
       "    <tr>\n",
       "      <th>ZIPCODE</th>\n",
       "      <td>20020</td>\n",
       "      <td>20017</td>\n",
       "      <td>20009</td>\n",
       "      <td>20009</td>\n",
       "      <td>20017</td>\n",
       "    </tr>\n",
       "    <tr>\n",
       "      <th>MARADDRESSREPOSITORYID</th>\n",
       "      <td>901953</td>\n",
       "      <td>902483</td>\n",
       "      <td>235679</td>\n",
       "      <td>226173</td>\n",
       "      <td>810447</td>\n",
       "    </tr>\n",
       "    <tr>\n",
       "      <th>WARD</th>\n",
       "      <td>8</td>\n",
       "      <td>5</td>\n",
       "      <td>1</td>\n",
       "      <td>1</td>\n",
       "      <td>5</td>\n",
       "    </tr>\n",
       "    <tr>\n",
       "      <th>DETAILS</th>\n",
       "      <td>SHOVEL CREW OR BOBCAT IS NEEDED FOR THIS AREA ...</td>\n",
       "      <td>NaN</td>\n",
       "      <td>Completed during snow event. If there are any ...</td>\n",
       "      <td>Completed during snow deployment.  sg</td>\n",
       "      <td>NaN</td>\n",
       "    </tr>\n",
       "    <tr>\n",
       "      <th>request_date</th>\n",
       "      <td>2016-01-29 14:44:49</td>\n",
       "      <td>2016-01-23 14:44:07</td>\n",
       "      <td>2016-01-23 15:55:39</td>\n",
       "      <td>2016-01-25 08:21:21</td>\n",
       "      <td>2016-01-25 08:22:08</td>\n",
       "    </tr>\n",
       "    <tr>\n",
       "      <th>response_time</th>\n",
       "      <td>-40</td>\n",
       "      <td>-108</td>\n",
       "      <td>-129</td>\n",
       "      <td>-87</td>\n",
       "      <td>-66</td>\n",
       "    </tr>\n",
       "  </tbody>\n",
       "</table>\n",
       "</div>"
      ],
      "text/plain": [
       "                                                                          107  \\\n",
       "X                                                                     -76.987   \n",
       "Y                                                                     38.8562   \n",
       "OBJECTID                                                              1054320   \n",
       "SERVICECODE                                                             SRC02   \n",
       "SERVICECODEDESCRIPTION                                       Snow/Ice Removal   \n",
       "SERVICETYPECODEDESCRIPTION                                               SNOW   \n",
       "ORGANIZATIONACRONYM                                                       DPW   \n",
       "SERVICECALLCOUNT                                                            1   \n",
       "ADDDATE                                              2016-01-29T14:44:49.000Z   \n",
       "RESOLUTIONDATE                                            2016-01-31 06:32:15   \n",
       "SERVICEDUEDATE                                       2016-02-01T14:44:00.000Z   \n",
       "SERVICEORDERDATE                                     2016-01-29T14:44:49.000Z   \n",
       "INSPECTIONFLAG                                                              Y   \n",
       "INSPECTIONDATE                                       2016-01-31T06:31:00.000Z   \n",
       "INSPECTORNAME                                                             NaN   \n",
       "SERVICEORDERSTATUS                                                     CLOSED   \n",
       "STATUS_CODE                                                            CLOSED   \n",
       "SERVICEREQUESTID                                                  16-00387025   \n",
       "PRIORITY                                                             STANDARD   \n",
       "STREETADDRESS                                                             NaN   \n",
       "XCOORD                                                                 401129   \n",
       "YCOORD                                                                 132042   \n",
       "LATITUDE                                                              38.8562   \n",
       "LONGITUDE                                                             -76.987   \n",
       "CITY                                                                      NaN   \n",
       "STATE                                                                     NaN   \n",
       "ZIPCODE                                                                 20020   \n",
       "MARADDRESSREPOSITORYID                                                 901953   \n",
       "WARD                                                                        8   \n",
       "DETAILS                     SHOVEL CREW OR BOBCAT IS NEEDED FOR THIS AREA ...   \n",
       "request_date                                              2016-01-29 14:44:49   \n",
       "response_time                                                             -40   \n",
       "\n",
       "                                                 202  \\\n",
       "X                                           -76.9981   \n",
       "Y                                            38.9463   \n",
       "OBJECTID                                     1075996   \n",
       "SERVICECODE                                    SRC02   \n",
       "SERVICECODEDESCRIPTION              Snow/Ice Removal   \n",
       "SERVICETYPECODEDESCRIPTION                      SNOW   \n",
       "ORGANIZATIONACRONYM                              DPW   \n",
       "SERVICECALLCOUNT                                   1   \n",
       "ADDDATE                     2016-01-23T14:44:07.000Z   \n",
       "RESOLUTIONDATE                   2016-01-28 02:33:33   \n",
       "SERVICEDUEDATE              2016-01-25T17:00:00.000Z   \n",
       "SERVICEORDERDATE            2016-01-23T14:44:07.000Z   \n",
       "INSPECTIONFLAG                                     Y   \n",
       "INSPECTIONDATE                                   NaN   \n",
       "INSPECTORNAME                                    NaN   \n",
       "SERVICEORDERSTATUS                            CLOSED   \n",
       "STATUS_CODE                                   CLOSED   \n",
       "SERVICEREQUESTID                         16-00374054   \n",
       "PRIORITY                                    STANDARD   \n",
       "STREETADDRESS                                    NaN   \n",
       "XCOORD                                        400166   \n",
       "YCOORD                                        142042   \n",
       "LATITUDE                                     38.9463   \n",
       "LONGITUDE                                   -76.9981   \n",
       "CITY                                             NaN   \n",
       "STATE                                            NaN   \n",
       "ZIPCODE                                        20017   \n",
       "MARADDRESSREPOSITORYID                        902483   \n",
       "WARD                                               5   \n",
       "DETAILS                                          NaN   \n",
       "request_date                     2016-01-23 14:44:07   \n",
       "response_time                                   -108   \n",
       "\n",
       "                                                                          212  \\\n",
       "X                                                                    -77.0404   \n",
       "Y                                                                     38.9229   \n",
       "OBJECTID                                                              1076006   \n",
       "SERVICECODE                                                             SRC02   \n",
       "SERVICECODEDESCRIPTION                                       Snow/Ice Removal   \n",
       "SERVICETYPECODEDESCRIPTION                                               SNOW   \n",
       "ORGANIZATIONACRONYM                                                       DPW   \n",
       "SERVICECALLCOUNT                                                            1   \n",
       "ADDDATE                                              2016-01-23T15:55:39.000Z   \n",
       "RESOLUTIONDATE                                            2016-01-29 00:22:46   \n",
       "SERVICEDUEDATE                                       2016-01-25T17:00:00.000Z   \n",
       "SERVICEORDERDATE                                     2016-01-23T15:55:39.000Z   \n",
       "INSPECTIONFLAG                                                              Y   \n",
       "INSPECTIONDATE                                       2016-01-29T00:22:00.000Z   \n",
       "INSPECTORNAME                                                             NaN   \n",
       "SERVICEORDERSTATUS                                                     CLOSED   \n",
       "STATUS_CODE                                                            CLOSED   \n",
       "SERVICEREQUESTID                                                  16-00374239   \n",
       "PRIORITY                                                             STANDARD   \n",
       "STREETADDRESS                                           1740 EUCLID STREET NW   \n",
       "XCOORD                                                                 396496   \n",
       "YCOORD                                                                 139450   \n",
       "LATITUDE                                                              38.9229   \n",
       "LONGITUDE                                                            -77.0404   \n",
       "CITY                                                               WASHINGTON   \n",
       "STATE                                                                      DC   \n",
       "ZIPCODE                                                                 20009   \n",
       "MARADDRESSREPOSITORYID                                                 235679   \n",
       "WARD                                                                        1   \n",
       "DETAILS                     Completed during snow event. If there are any ...   \n",
       "request_date                                              2016-01-23 15:55:39   \n",
       "response_time                                                            -129   \n",
       "\n",
       "                                                              219  \\\n",
       "X                                                        -77.0336   \n",
       "Y                                                         38.9242   \n",
       "OBJECTID                                                  1076021   \n",
       "SERVICECODE                                                 SRC02   \n",
       "SERVICECODEDESCRIPTION                           Snow/Ice Removal   \n",
       "SERVICETYPECODEDESCRIPTION                                   SNOW   \n",
       "ORGANIZATIONACRONYM                                           DPW   \n",
       "SERVICECALLCOUNT                                                1   \n",
       "ADDDATE                                  2016-01-25T08:21:21.000Z   \n",
       "RESOLUTIONDATE                                2016-01-28 23:16:37   \n",
       "SERVICEDUEDATE                           2016-01-25T17:00:00.000Z   \n",
       "SERVICEORDERDATE                         2016-01-25T08:21:21.000Z   \n",
       "INSPECTIONFLAG                                                  Y   \n",
       "INSPECTIONDATE                           2016-01-28T23:16:00.000Z   \n",
       "INSPECTORNAME                                                 NaN   \n",
       "SERVICEORDERSTATUS                                         CLOSED   \n",
       "STATUS_CODE                                                CLOSED   \n",
       "SERVICEREQUESTID                                      16-00378294   \n",
       "PRIORITY                                                 STANDARD   \n",
       "STREETADDRESS                             1442 FAIRMONT STREET NW   \n",
       "XCOORD                                                     397091   \n",
       "YCOORD                                                     139596   \n",
       "LATITUDE                                                  38.9242   \n",
       "LONGITUDE                                                -77.0335   \n",
       "CITY                                                   WASHINGTON   \n",
       "STATE                                                          DC   \n",
       "ZIPCODE                                                     20009   \n",
       "MARADDRESSREPOSITORYID                                     226173   \n",
       "WARD                                                            1   \n",
       "DETAILS                     Completed during snow deployment.  sg   \n",
       "request_date                                  2016-01-25 08:21:21   \n",
       "response_time                                                 -87   \n",
       "\n",
       "                                                            220  \n",
       "X                                                      -76.9963  \n",
       "Y                                                       38.9507  \n",
       "OBJECTID                                                1076022  \n",
       "SERVICECODE                                               SRC02  \n",
       "SERVICECODEDESCRIPTION                         Snow/Ice Removal  \n",
       "SERVICETYPECODEDESCRIPTION                                 SNOW  \n",
       "ORGANIZATIONACRONYM                                         DPW  \n",
       "SERVICECALLCOUNT                                              1  \n",
       "ADDDATE                                2016-01-25T08:22:08.000Z  \n",
       "RESOLUTIONDATE                              2016-01-28 02:10:55  \n",
       "SERVICEDUEDATE                         2016-01-25T17:00:00.000Z  \n",
       "SERVICEORDERDATE                       2016-01-25T08:22:08.000Z  \n",
       "INSPECTIONFLAG                                                Y  \n",
       "INSPECTIONDATE                                              NaN  \n",
       "INSPECTORNAME                                               NaN  \n",
       "SERVICEORDERSTATUS                                       CLOSED  \n",
       "STATUS_CODE                                              CLOSED  \n",
       "SERVICEREQUESTID                                    16-00378301  \n",
       "PRIORITY                                               STANDARD  \n",
       "STREETADDRESS               600 - 799 BLOCK OF FARADAY PLACE NE  \n",
       "XCOORD                                                   400319  \n",
       "YCOORD                                                   142529  \n",
       "LATITUDE                                                38.9507  \n",
       "LONGITUDE                                              -76.9963  \n",
       "CITY                                                 WASHINGTON  \n",
       "STATE                                                        DC  \n",
       "ZIPCODE                                                   20017  \n",
       "MARADDRESSREPOSITORYID                                   810447  \n",
       "WARD                                                          5  \n",
       "DETAILS                                                     NaN  \n",
       "request_date                                2016-01-25 08:22:08  \n",
       "response_time                                               -66  "
      ]
     },
     "execution_count": 75,
     "metadata": {},
     "output_type": "execute_result"
    }
   ],
   "source": [
    "snow_req.head().T"
   ]
  },
  {
   "cell_type": "markdown",
   "metadata": {},
   "source": [
    "Now that we have our response times, let's use the groupby function to get the average response time by ward."
   ]
  },
  {
   "cell_type": "code",
   "execution_count": 108,
   "metadata": {
    "collapsed": false
   },
   "outputs": [
    {
     "data": {
      "text/plain": [
       "WARD\n",
       "5.0   -113.878313\n",
       "6.0    -96.661836\n",
       "7.0    -95.990393\n",
       "4.0    -77.349127\n",
       "8.0    -71.335322\n",
       "3.0    -64.063209\n",
       "1.0    -63.298765\n",
       "2.0    -58.750000\n",
       "Name: response_time, dtype: float64"
      ]
     },
     "execution_count": 108,
     "metadata": {},
     "output_type": "execute_result"
    }
   ],
   "source": [
    "i= snow_req.groupby('WARD')\n",
    "i['response_time'].mean().sort_values() #Why are my outputs negative?"
   ]
  },
  {
   "cell_type": "markdown",
   "metadata": {},
   "source": [
    "This looks a lot like the output from the value_counts function. In fact, value_counts is a type of groupby function that simply returns counts for each of the unique values in a column. \n",
    "\n",
    "The groupby function allows us to aggregate the data by the unique values of a column (or multiple columns) and return various statistics, including mean, median, minimum (min), maximum (max), counts, etc.\n",
    "\n",
    "Again, we have two parts to the output: the index, in this case the ward, and the values, in this case the average hours it to the city to respond to a request for snow and ice removal. The groupby function returns the values sorted by the index. However, we can sort the values by the value using the sort_values function. \n",
    "\n",
    "## Exercise 11\n",
    "\n",
    "Get the average response times by ward again and sort the values by the average response time in ascending order (from highest to lowest). Which ward had the longest response times? Which had the lowest?"
   ]
  },
  {
   "cell_type": "code",
   "execution_count": 111,
   "metadata": {
    "collapsed": false
   },
   "outputs": [
    {
     "data": {
      "text/plain": [
       "WARD\n",
       "5.0   -113.878313\n",
       "6.0    -96.661836\n",
       "7.0    -95.990393\n",
       "4.0    -77.349127\n",
       "8.0    -71.335322\n",
       "3.0    -64.063209\n",
       "1.0    -63.298765\n",
       "2.0    -58.750000\n",
       "Name: response_time, dtype: float64"
      ]
     },
     "execution_count": 111,
     "metadata": {},
     "output_type": "execute_result"
    }
   ],
   "source": [
    "___"
   ]
  },
  {
   "cell_type": "markdown",
   "metadata": {},
   "source": [
    "Now we know which wards made the most requests for snow and ice removal following the historic snowstorm in January 2016. Why do you think some wards received faster service than others? Do you think you could build a model predicting which requests would receive the fastest response?"
   ]
  },
  {
   "cell_type": "code",
   "execution_count": 112,
   "metadata": {
    "collapsed": true
   },
   "outputs": [],
   "source": [
    "#I did build a model predicting response time in assignment 2, however it was not very good,\n",
    "# according to my accuracy scores. If you have any advice for improving it I'd apprecaite that.\n",
    "# I'll spend more time on my model if I can."
   ]
  },
  {
   "cell_type": "code",
   "execution_count": null,
   "metadata": {
    "collapsed": true
   },
   "outputs": [],
   "source": []
  }
 ],
 "metadata": {
  "kernelspec": {
   "display_name": "Python 3",
   "language": "python",
   "name": "python3"
  },
  "language_info": {
   "codemirror_mode": {
    "name": "ipython",
    "version": 3
   },
   "file_extension": ".py",
   "mimetype": "text/x-python",
   "name": "python",
   "nbconvert_exporter": "python",
   "pygments_lexer": "ipython3",
   "version": "3.6.0"
  }
 },
 "nbformat": 4,
 "nbformat_minor": 1
}
